{
 "cells": [
  {
   "cell_type": "markdown",
   "metadata": {},
   "source": [
    "From time to time you will need to use the terminal to install libraries, etc.  Your terminal probably looks something like this:  \n",
    "\n",
    "`MyMBP:~ carl$`\n",
    "\n",
    "This line, ending with the dollar sign, is called the prompt.  When you see this the system is prompting you to provide input, such as a command.\n",
    "\n",
    "\n"
   ]
  },
  {
   "cell_type": "code",
   "execution_count": null,
   "metadata": {},
   "outputs": [],
   "source": []
  }
 ],
 "metadata": {
  "kernelspec": {
   "display_name": "Bash",
   "language": "bash",
   "name": "bash"
  },
  "language_info": {
   "codemirror_mode": "shell",
   "file_extension": ".sh",
   "mimetype": "text/x-sh",
   "name": "bash"
  }
 },
 "nbformat": 4,
 "nbformat_minor": 2
}
