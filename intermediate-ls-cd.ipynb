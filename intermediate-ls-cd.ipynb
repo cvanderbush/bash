{
 "cells": [
  {
   "cell_type": "markdown",
   "metadata": {},
   "source": [
    "   ## More with `cd` and `ls`"
   ]
  },
  {
   "cell_type": "markdown",
   "metadata": {},
   "source": [
    "`cd`, `ls`, and `pwd` will take you anywhere you need to go via the command line.  Here are some enhancements to those commands that will ..."
   ]
  },
  {
   "cell_type": "markdown",
   "metadata": {},
   "source": [
    "### Tab completion"
   ]
  },
  {
   "cell_type": "markdown",
   "metadata": {},
   "source": [
    "Here's a great time-saving secret that you can use with `cd`  \n",
    "When you are typing the name of the directory you want to `cd` into, hit the `<Tab>` key after typing a few letters of the name.  For example:\n",
    "\n",
    "`cd gi<Tab>`  \n",
    "\n",
    "In my home directory I have a subdirectory that begins with \"gi\", my `github` directory.  In fact, that's my only subdirectory that begins with \"gi\".  \n",
    "When I hit the `<Tab>` key after typing `gi`, the bash shell recognizes that the only directory that I could possibly be trying to `cd` into is my `github` directory, so it completes the rest of the directory name for me.  Then I hit `<Return>` and I am in!"
   ]
  },
  {
   "cell_type": "markdown",
   "metadata": {},
   "source": [
    "#### Ambiguity\n",
    "\n",
    "Also in my home directory, I have two subdirectories that begin with \"Do\"\n",
    "`Documents` and\n",
    "`Downloads`  \n",
    "\n",
    "If I type `cd Do<Tab>`, this time the `bash` shell is just going to beep at me for giving it an ambiguous request.  It can't determine whether I want the `Documents` or the `Downloads` directory.  \n",
    "\n",
    "If I hit `<Tab>` a second time it will display all the directories that begin with \"Do\" to make me aware of why the Tab completion didn't work and then it will retype my command right up to the point where I pressed `<Tab>` and give me a second chance.  \n",
    "\n",
    "If I wanted the `Documents` directory, I'd only need to type an additional `c` and then hit `<Tab>` and then `bash` would know unambiguously that I wanted to `cd` into `Documents`."
   ]
  },
  {
   "cell_type": "markdown",
   "metadata": {},
   "source": [
    "Tab completion for directories\n",
    "arrow up arrow down"
   ]
  },
  {
   "cell_type": "markdown",
   "metadata": {},
   "source": [
    "~ is symbol for home directory\n",
    "cd ~ takes you to home directory\n",
    "cd also takes you to home directory\n",
    "\n",
    "First instance of jumping, not taking relational path\n",
    "\n",
    "Relational vs. absolute paths\n",
    "\n",
    "ls /etc or /usr/local/bin"
   ]
  },
  {
   "cell_type": "markdown",
   "metadata": {},
   "source": [
    "hidden . files - ls -a\n",
    "need to be able to locate these in order to edit them -- editing will come in a later page\n",
    "\n",
    "ls -t and ls -rt\n",
    "\n",
    "wildcards * and ?"
   ]
  }
 ],
 "metadata": {
  "kernelspec": {
   "display_name": "Bash",
   "language": "bash",
   "name": "bash"
  },
  "language_info": {
   "codemirror_mode": "shell",
   "file_extension": ".sh",
   "mimetype": "text/x-sh",
   "name": "bash"
  }
 },
 "nbformat": 4,
 "nbformat_minor": 2
}
