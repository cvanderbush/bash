{
 "cells": [
  {
   "cell_type": "markdown",
   "metadata": {},
   "source": [
    "   ## More with `cd` and `ls`"
   ]
  },
  {
   "cell_type": "markdown",
   "metadata": {},
   "source": [
    "`cd`, `ls`, and `pwd` will take you anywhere you need to go via the command line.  Here are some enhancements to those commands that will ..."
   ]
  },
  {
   "cell_type": "markdown",
   "metadata": {},
   "source": [
    "### Tab completion"
   ]
  },
  {
   "cell_type": "markdown",
   "metadata": {},
   "source": [
    "Here's a great time-saving secret that you can use with `cd`  \n",
    "When you are typing the name of the directory you want to `cd` into, hit the `<Tab>` key after typing a few letters of the name.  For example:\n",
    "\n",
    "`cd gi<Tab>`  \n",
    "\n",
    "In my home directory I have a subdirectory that begins with \"gi\", my `github` directory.  In fact, that's my only subdirectory that begins with \"gi\".  \n",
    "When I hit the `<Tab>` key after typing `gi`, the bash shell recognizes that the only directory that I could possibly be trying to `cd` into is my `github` directory, so it completes the rest of the directory name for me.  Then I hit `<Return>` and I am in!"
   ]
  },
  {
   "cell_type": "markdown",
   "metadata": {},
   "source": [
    "#### Ambiguity\n",
    "\n",
    "Also in my home directory, I have two subdirectories that begin with \"Do\"\n",
    "`Documents` and\n",
    "`Downloads`  \n",
    "\n",
    "If I type `cd Do<Tab>`, this time the `bash` shell is just going to beep at me for giving it an ambiguous request.  It can't determine whether I want the `Documents` or the `Downloads` directory.  \n",
    "\n",
    "If I hit `<Tab>` a second time it will display all the directories that begin with \"Do\" to make me aware of why the Tab completion didn't work and then it will retype my command right up to the point where I pressed `<Tab>` and give me a second chance.  \n",
    "\n",
    "If I wanted the `Documents` directory, I'd only need to type an additional `c` and then hit `<Tab>` and then `bash` would know unambiguously that I wanted to `cd` into `Documents`."
   ]
  },
  {
   "cell_type": "markdown",
   "metadata": {},
   "source": [
    "### Edit previous commands with the arrows\n",
    "One more shortcut concept to enhance your `bash` prowess.  \n",
    "\n",
    "On occasion you may mistype a command, in which case you will most likely get a system message describing the nature of the error you have committed by issuing the typo.  \n",
    "\n",
    "Perhaps this command was long and intricate, making it difficult to type correctly and tedious to have to retype it to get it right.  `Up-arrow` to the rescue!  \n",
    "\n",
    "After you realize your error, simply hit the `Up-arrow` on your keyboard and your erroneous command will reappear at the command line with the cursor positioned at the end of the command.  \n",
    "\n",
    "Use your `left-arrow` key to move the cursor back to the point where you mistyped and then use the `Delete` key to erase any unwanted characters and type in new characters that should properly be part of the command.  When you have edited the command to your liking, just press `<Enter>`, no need to move the cursor to the far right end of the command line."
   ]
  },
  {
   "cell_type": "markdown",
   "metadata": {},
   "source": [
    "#### Repeat commands\n",
    "Another use for the `Up-arrow` to recall previous commands is if you have correctly typed a complex command that you want to use, or use part of, again.  \n",
    "\n",
    "If the command you wish to re-use was a few commands back in history, keep hitting the `Up-arrow` and each previous command will reappear.  Stop when you get to the one you want to issue again and then hit `Enter`."
   ]
  },
  {
   "cell_type": "markdown",
   "metadata": {},
   "source": [
    "## Take the direct path\n",
    "So far with our use of `cd` we have been restricted in movement up and down by the possibilities offered by our current location.  For instance, we couldn't `cd` directly into the `math` directory from our home directory, first we had to `cd` into the `github` directory and then into `math`.  \n",
    "\n",
    "Likewise, once we were in the `math` directory, we couldn't `cd` directly up to our home directory, we first had to `cd ..` to the `github` directory and then `cd ..` once more up to home.  \n",
    "\n",
    "With some knowledge about exactly where we wish to go, we can go directly, in one command.  That piece of knowledge that we need is the path to our destination.  \n",
    "\n",
    "Say we are in our home directory and we want to go directly to the `math` directory.  We can kill two birds with one stone by specifying the two directories that we must change into in one `cd` command.  \n",
    "\n",
    "`cd github/math` # put in code by starting notebook from home directory"
   ]
  },
  {
   "cell_type": "markdown",
   "metadata": {},
   "source": [
    "Similarly, if we want to go up two directories, we can  \n",
    "`cd ../.. `  \n",
    "and we'd be back in our home directory."
   ]
  },
  {
   "cell_type": "markdown",
   "metadata": {},
   "source": [
    "maybe animated gif here of the two above processes"
   ]
  },
  {
   "cell_type": "markdown",
   "metadata": {},
   "source": [
    "### Relational vs. absolute paths\n",
    "\n",
    "~ is symbol for home directory\n",
    "cd ~ takes you to home directory\n",
    "cd also takes you to home directory\n",
    "\n",
    "First instance of jumping, not taking relational path\n",
    "\n"
   ]
  },
  {
   "cell_type": "markdown",
   "metadata": {},
   "source": [
    "ls /etc or /usr/local/bin"
   ]
  },
  {
   "cell_type": "markdown",
   "metadata": {},
   "source": [
    "hidden . files - ls -a\n",
    "need to be able to locate these in order to edit them -- editing will come in a later page\n",
    "\n",
    "ls -t and ls -rt\n",
    "\n",
    "wildcards * and ?"
   ]
  }
 ],
 "metadata": {
  "kernelspec": {
   "display_name": "Bash",
   "language": "bash",
   "name": "bash"
  },
  "language_info": {
   "codemirror_mode": "shell",
   "file_extension": ".sh",
   "mimetype": "text/x-sh",
   "name": "bash"
  }
 },
 "nbformat": 4,
 "nbformat_minor": 2
}
