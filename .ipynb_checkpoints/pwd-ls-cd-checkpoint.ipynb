{
 "cells": [
  {
   "cell_type": "markdown",
   "metadata": {},
   "source": [
    "## `pwd`, `ls`, and `cd`"
   ]
  },
  {
   "cell_type": "markdown",
   "metadata": {},
   "source": [
    "These three commands, `pwd`, `ls`, and `cd` are used to travel through your structure of files and directories.  \n",
    "\n",
    "You will use them so much that they will quickly become second nature to you."
   ]
  },
  {
   "cell_type": "markdown",
   "metadata": {},
   "source": [
    "\n",
    "### `pwd`  \n",
    "The first command is `pwd`, which stands for \"print working directory\".  \n",
    "Type `pwd` and hit `<Return>`"
   ]
  },
  {
   "cell_type": "code",
   "execution_count": 12,
   "metadata": {},
   "outputs": [
    {
     "name": "stdout",
     "output_type": "stream",
     "text": [
      "/Users/carl\n"
     ]
    }
   ],
   "source": [
    "pwd"
   ]
  },
  {
   "cell_type": "markdown",
   "metadata": {},
   "source": [
    "The system prints to the screen the directory that you are currently in, in my case, `/Users/carl`   \n",
    "This is a special directory, my top-level, \"home\" directory."
   ]
  },
  {
   "cell_type": "markdown",
   "metadata": {},
   "source": [
    "### `ls`\n",
    "The next command is `ls`, (\"ell ess\"), which is short for list.  `ls` will display a list of all the items in your current directory.  \n",
    "Type `ls` and hit `<Return>`"
   ]
  },
  {
   "cell_type": "code",
   "execution_count": 13,
   "metadata": {},
   "outputs": [
    {
     "name": "stdout",
     "output_type": "stream",
     "text": [
      "3MCloudLibrary\t\tMusic\t\t\tpackage_count.txt\n",
      "AnacondaProjects\tMvmult_n_unb_var1B.m\tpriv\n",
      "Applications\t\tPS1.txt\t\t\tprogramming\n",
      "Desktop\t\t\tPictures\t\tpwd.json\n",
      "Documents\t\tPublic\t\t\tpython\n",
      "Downloads\t\tR test.ipynb\t\tscikit_learn_data\n",
      "Dropbox\t\t\tSites\t\t\tsinfunc.txt\n",
      "Dropbox (Personal)\tVAS.plist\t\tsqlite\n",
      "Dropbox (Workbox)\tanaconda\t\ttest.db\n",
      "Google Drive\t\tbin\t\t\ttest.py\n",
      "LAFF-2.0xM\t\teclipse\t\t\ttmp\n",
      "Library\t\t\tgithub\t\t\tworkbox\n",
      "Movies\t\t\tnltk_data\n"
     ]
    }
   ],
   "source": [
    "ls"
   ]
  },
  {
   "cell_type": "markdown",
   "metadata": {},
   "source": [
    "The `ls` command has printed the names of all the items in the directory sorted alphabetically, in three columns.  \n",
    "Notice that in this sort order, numbers come before letters, and all capital letters come before lower case letters.  \n",
    "\n",
    "You can get more detail about each one of these items by using the `ls -l` command.  Here we're just appending the `-l` (\"dash ell\") option to `ls`  \n",
    "The `-l` option stands for \"long\"."
   ]
  },
  {
   "cell_type": "code",
   "execution_count": 4,
   "metadata": {},
   "outputs": [
    {
     "name": "stdout",
     "output_type": "stream",
     "text": [
      "total 240\n",
      "drwxr-xr-x    4 carl  staff    136 Oct 16  2015 3MCloudLibrary\n",
      "drwxr-xr-x    2 carl  staff     68 May 26  2017 AnacondaProjects\n",
      "drwx------    5 carl  staff    170 Sep 20 14:40 Applications\n",
      "drwx------+  22 carl  staff    748 Nov 25 20:57 Desktop\n",
      "drwx------+  44 carl  staff   1496 Nov 21 18:05 Documents\n",
      "drwx------+ 585 carl  staff  19890 Dec  2 16:31 Downloads\n",
      "lrwxr-xr-x@   1 carl  staff     30 Jun 14 08:41 Dropbox -> /Users/carl/Dropbox (Personal)\n",
      "drwx------@ 198 carl  staff   6732 Dec  1 11:44 Dropbox (Personal)\n",
      "drwx------@  15 carl  staff    510 Nov 15 13:19 Dropbox (Workbox)\n",
      "drwx------@  49 carl  staff   1666 Nov 13 21:47 Google Drive\n",
      "drwxr-xr-x@  17 carl  staff    578 Mar  3  2017 LAFF-2.0xM\n",
      "drwx------@  77 carl  staff   2618 Oct 19 06:51 Library\n",
      "drwx------+  13 carl  staff    442 Jul 21 22:00 Movies\n",
      "drwx------+  18 carl  staff    612 Feb 26  2016 Music\n",
      "-rw-r--r--    1 carl  staff   2242 Mar  5  2017 Mvmult_n_unb_var1B.m\n",
      "-rw-r--r--    1 carl  staff     11 Mar 19  2016 PS1.txt\n",
      "drwx------+   9 carl  staff    306 Sep  6  2015 Pictures\n",
      "drwxr-xr-x+   6 carl  staff    204 Nov 11  2015 Public\n",
      "-rw-r--r--    1 carl  staff  69400 Dec  3 13:51 R test.ipynb\n",
      "drwxr-xr-x+  13 carl  staff    442 Nov 16 06:34 Sites\n",
      "-rw-r--r--    1 carl  staff    285 Nov 19  2014 VAS.plist\n",
      "drwxr-xr-x   24 carl  staff    816 Jul 10 22:16 anaconda\n",
      "drwxr-xr-x    4 carl  staff    136 Aug  4  2016 bin\n",
      "drwxr-xr-x    4 carl  staff    136 Nov 12  2016 eclipse\n",
      "drwxr-xr-x   14 carl  staff    476 Dec  3 20:23 github\n",
      "drwxr-xr-x    9 carl  staff    306 Jul 27 21:37 nltk_data\n",
      "-rw-r--r--    1 carl  staff   2346 Jul 10  2016 package_count.txt\n",
      "drwxr-xr-x    3 carl  staff    102 Sep 22 07:07 priv\n",
      "lrwxr-xr-x    1 carl  staff     20 Nov 20 11:21 programming -> workbox/programming/\n",
      "-rw-r--r--    1 carl  staff   9783 Dec  3 17:41 pwd.json\n",
      "lrwxr-xr-x    1 carl  staff     39 Nov 14 06:24 python -> /Users/carl/workbox/programming/python/\n",
      "drwxr-xr-x    3 carl  staff    102 Nov 21 05:55 scikit_learn_data\n",
      "-rw-r--r--    1 carl  staff     19 May 11  2016 sinfunc.txt\n",
      "drwxr-xr-x    3 carl  staff    102 Apr  9  2017 sqlite\n",
      "-rw-r--r--    1 carl  staff      0 Apr  9  2017 test.db\n",
      "-rwxr-xr-x    1 carl  staff     45 Aug  4  2016 test.py\n",
      "drwxr-xr-x   18 carl  staff    612 Dec  2 13:58 tmp\n",
      "lrwxr-xr-x    1 carl  staff     29 Jun 14 15:47 workbox -> /Users/carl/Dropbox (Workbox)\n"
     ]
    }
   ],
   "source": [
    "ls -l"
   ]
  },
  {
   "cell_type": "markdown",
   "metadata": {},
   "source": [
    "Now we're give a lot more detail about each item in the directory.  For now, let's just focus on the first character of each line.  It is either `d`, `-`, or `l`.  \n",
    "\n",
    "If the first character is a  \n",
    "`d` - the item is a directory  \n",
    "`-` - it's a file  \n",
    "`l` - it's a link  \n",
    "\n",
    "So, `github` is a directory, `sinfunc.txt` is a file, and `workbox` is a link."
   ]
  },
  {
   "cell_type": "markdown",
   "metadata": {},
   "source": [
    "### cd  \n",
    "\n",
    "The last command is `cd`, which stands for \"change directory\".  The terms \"`cd`\" and \"change directory\" are often used as verbs, for example, \"`cd` into your home directory\".  \n",
    "\n",
    "Since `github` is a directory inside our current directory, we could use the `cd` command to change directory into the `github` directory, that is, make `github` the new current directory.  \n",
    "\n",
    "Type `cd github` and hit `<Return>`"
   ]
  },
  {
   "cell_type": "code",
   "execution_count": null,
   "metadata": {},
   "outputs": [],
   "source": [
    "cd github"
   ]
  },
  {
   "cell_type": "markdown",
   "metadata": {},
   "source": [
    "The terminal took our command but we don't get any feedback as to whether we were successful or not.  \n",
    "To check, type `pwd` and hit `<Return>`."
   ]
  },
  {
   "cell_type": "code",
   "execution_count": 7,
   "metadata": {},
   "outputs": [
    {
     "name": "stdout",
     "output_type": "stream",
     "text": [
      "/Users/carl/github\n"
     ]
    }
   ],
   "source": [
    "pwd"
   ]
  },
  {
   "cell_type": "markdown",
   "metadata": {},
   "source": [
    "Yes, we can see we are now in the `github` directory, one level down from `/Users/carl`, the home directory.  \n",
    "\n",
    "Let's take a look at what the `github` directory contains."
   ]
  },
  {
   "cell_type": "code",
   "execution_count": 8,
   "metadata": {},
   "outputs": [
    {
     "name": "stdout",
     "output_type": "stream",
     "text": [
      "asciicast2gif\t\tkdbq\t\t\tpython\n",
      "bash\t\t\tmath\t\t\ttest2.txt\n",
      "hello-world\t\tml\t\t\ttime_series\n",
      "idiomatic_pandas\tpydata-dc-2016-tutorial\n"
     ]
    }
   ],
   "source": [
    "ls"
   ]
  },
  {
   "cell_type": "markdown",
   "metadata": {},
   "source": [
    "Since we don't know whether these are files, directories, or something else, let's do an `ls -l` again."
   ]
  },
  {
   "cell_type": "code",
   "execution_count": 16,
   "metadata": {},
   "outputs": [
    {
     "name": "stdout",
     "output_type": "stream",
     "text": [
      "total 8\n",
      "drwxr-xr-x  15 carl  staff  510 Dec  2 15:12 asciicast2gif\n",
      "drwxr-xr-x   6 carl  staff  204 Dec  3 22:04 bash\n",
      "drwxr-xr-x   6 carl  staff  204 Oct 14 20:30 hello-world\n",
      "drwxr-xr-x   7 carl  staff  238 Oct 20 19:56 idiomatic_pandas\n",
      "drwxr-xr-x   6 carl  staff  204 Oct 31 06:05 kdbq\n",
      "drwxr-xr-x   6 carl  staff  204 Oct 21 14:22 math\n",
      "drwxr-xr-x  10 carl  staff  340 Oct 28 18:47 ml\n",
      "drwxr-xr-x  12 carl  staff  408 Nov 26 22:12 pydata-dc-2016-tutorial\n",
      "drwxr-xr-x   6 carl  staff  204 Oct 16 10:19 python\n",
      "-rw-r--r--   1 carl  staff   26 Oct 14 20:30 test2.txt\n",
      "drwxr-xr-x   7 carl  staff  238 Nov 28 06:25 time_series\n"
     ]
    }
   ],
   "source": [
    "ls -l"
   ]
  },
  {
   "cell_type": "markdown",
   "metadata": {},
   "source": [
    "Most of these are directories.  Let's change directories one level deeper, into `math`..."
   ]
  },
  {
   "cell_type": "code",
   "execution_count": null,
   "metadata": {},
   "outputs": [],
   "source": [
    "cd math"
   ]
  },
  {
   "cell_type": "markdown",
   "metadata": {},
   "source": [
    "...get confirmation of which directory we are currently in..."
   ]
  },
  {
   "cell_type": "code",
   "execution_count": 22,
   "metadata": {},
   "outputs": [
    {
     "name": "stdout",
     "output_type": "stream",
     "text": [
      "/Users/carl/github/math\n"
     ]
    }
   ],
   "source": [
    "pwd"
   ]
  },
  {
   "cell_type": "markdown",
   "metadata": {},
   "source": [
    "and list the contents of the `math` directory..."
   ]
  },
  {
   "cell_type": "code",
   "execution_count": 23,
   "metadata": {},
   "outputs": [
    {
     "name": "stdout",
     "output_type": "stream",
     "text": [
      "README.md\t\tscipy_Newton.ipynb\n"
     ]
    }
   ],
   "source": [
    "ls"
   ]
  },
  {
   "cell_type": "markdown",
   "metadata": {},
   "source": [
    "## the path\n",
    "Now that we are in the `math` directory, two directories below our home directory, it's a good time to mention that the full listing of successive directories separated by slashes that we get when we issue the `pwd` command is called the path.  \n",
    "\n",
    "our current path is \n",
    "`/Users/carl/github/math`\n",
    "\n",
    "It is like a real life path in that it is the trail of directories you've navigated through in order to reach your current location."
   ]
  },
  {
   "cell_type": "markdown",
   "metadata": {},
   "source": [
    "## `cd ..`\n",
    "\n",
    "So far we have used `cd` to go deeper and deeper into sub-directories.  How do we go back up?  The directory immediately above our current directory is symbolized by `..` (\"dot dot\").  So, to go up one directory,  `cd ..`  \n",
    "\n",
    "Note here that there is a space between the `cd` command and the `..` parameter, just as there is when you are changing directories into a sub-directory with a name, e.g. `cd math`.  Make sure you put that space in for both situations!"
   ]
  },
  {
   "cell_type": "code",
   "execution_count": 25,
   "metadata": {},
   "outputs": [
    {
     "name": "stdout",
     "output_type": "stream",
     "text": [
      "/Users/carl/github\n"
     ]
    }
   ],
   "source": [
    "cd ..\n",
    "pwd"
   ]
  },
  {
   "cell_type": "markdown",
   "metadata": {},
   "source": [
    "We're back in the `github` directory, the directory that contains the `math` directory.  \n",
    "\n",
    "Let's go up one more directory."
   ]
  },
  {
   "cell_type": "code",
   "execution_count": 26,
   "metadata": {},
   "outputs": [
    {
     "name": "stdout",
     "output_type": "stream",
     "text": [
      "/Users/carl\n"
     ]
    }
   ],
   "source": [
    "cd ..\n",
    "pwd"
   ]
  },
  {
   "cell_type": "markdown",
   "metadata": {},
   "source": [
    "And now we've resurfaced back in the home directory."
   ]
  },
  {
   "cell_type": "markdown",
   "metadata": {},
   "source": [
    "## Takeaway  \n",
    "\n",
    "Now you know enough to be able to navigate anywhere deep within your home directory using `cd` and `cd ..`  \n",
    "You can determine which directory you are currently in with `pwd`, which prints the whole `path`   \n",
    "and you can view the contents of each directory you visit with `ls` and `ls -l`.  \n",
    "\n",
    "Take some time to open a Terminal and explore your own home directory and its subdirectories.  You will be getting a lot of practice on these commands with daily use."
   ]
  },
  {
   "cell_type": "code",
   "execution_count": null,
   "metadata": {},
   "outputs": [],
   "source": []
  }
 ],
 "metadata": {
  "kernelspec": {
   "display_name": "Bash",
   "language": "bash",
   "name": "bash"
  },
  "language_info": {
   "codemirror_mode": "shell",
   "file_extension": ".sh",
   "mimetype": "text/x-sh",
   "name": "bash"
  }
 },
 "nbformat": 4,
 "nbformat_minor": 2
}
